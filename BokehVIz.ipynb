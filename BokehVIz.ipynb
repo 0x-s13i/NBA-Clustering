{
 "cells": [
  {
   "cell_type": "code",
   "execution_count": 1,
   "metadata": {
    "collapsed": true
   },
   "outputs": [],
   "source": [
    "import pandas as pd"
   ]
  },
  {
   "cell_type": "code",
   "execution_count": 2,
   "metadata": {
    "collapsed": false
   },
   "outputs": [
    {
     "data": {
      "text/html": [
       "\n",
       "    <div class=\"bk-root\">\n",
       "        <a href=\"http://bokeh.pydata.org\" target=\"_blank\" class=\"bk-logo bk-logo-small bk-logo-notebook\"></a>\n",
       "        <span id=\"496edd2a-158f-4595-9e31-8064b398d412\">Loading BokehJS ...</span>\n",
       "    </div>"
      ]
     },
     "metadata": {},
     "output_type": "display_data"
    },
    {
     "data": {
      "application/javascript": [
       "\n",
       "(function(global) {\n",
       "  function now() {\n",
       "    return new Date();\n",
       "  }\n",
       "\n",
       "  var force = true;\n",
       "\n",
       "  if (typeof (window._bokeh_onload_callbacks) === \"undefined\" || force === true) {\n",
       "    window._bokeh_onload_callbacks = [];\n",
       "    window._bokeh_is_loading = undefined;\n",
       "  }\n",
       "\n",
       "\n",
       "  \n",
       "  if (typeof (window._bokeh_timeout) === \"undefined\" || force === true) {\n",
       "    window._bokeh_timeout = Date.now() + 5000;\n",
       "    window._bokeh_failed_load = false;\n",
       "  }\n",
       "\n",
       "  var NB_LOAD_WARNING = {'data': {'text/html':\n",
       "     \"<div style='background-color: #fdd'>\\n\"+\n",
       "     \"<p>\\n\"+\n",
       "     \"BokehJS does not appear to have successfully loaded. If loading BokehJS from CDN, this \\n\"+\n",
       "     \"may be due to a slow or bad network connection. Possible fixes:\\n\"+\n",
       "     \"</p>\\n\"+\n",
       "     \"<ul>\\n\"+\n",
       "     \"<li>re-rerun `output_notebook()` to attempt to load from CDN again, or</li>\\n\"+\n",
       "     \"<li>use INLINE resources instead, as so:</li>\\n\"+\n",
       "     \"</ul>\\n\"+\n",
       "     \"<code>\\n\"+\n",
       "     \"from bokeh.resources import INLINE\\n\"+\n",
       "     \"output_notebook(resources=INLINE)\\n\"+\n",
       "     \"</code>\\n\"+\n",
       "     \"</div>\"}};\n",
       "\n",
       "  function display_loaded() {\n",
       "    if (window.Bokeh !== undefined) {\n",
       "      var el = document.getElementById(\"496edd2a-158f-4595-9e31-8064b398d412\");\n",
       "      el.textContent = \"BokehJS \" + Bokeh.version + \" successfully loaded.\";\n",
       "    } else if (Date.now() < window._bokeh_timeout) {\n",
       "      setTimeout(display_loaded, 100)\n",
       "    }\n",
       "  }\n",
       "\n",
       "  function run_callbacks() {\n",
       "    window._bokeh_onload_callbacks.forEach(function(callback) { callback() });\n",
       "    delete window._bokeh_onload_callbacks\n",
       "    console.info(\"Bokeh: all callbacks have finished\");\n",
       "  }\n",
       "\n",
       "  function load_libs(js_urls, callback) {\n",
       "    window._bokeh_onload_callbacks.push(callback);\n",
       "    if (window._bokeh_is_loading > 0) {\n",
       "      console.log(\"Bokeh: BokehJS is being loaded, scheduling callback at\", now());\n",
       "      return null;\n",
       "    }\n",
       "    if (js_urls == null || js_urls.length === 0) {\n",
       "      run_callbacks();\n",
       "      return null;\n",
       "    }\n",
       "    console.log(\"Bokeh: BokehJS not loaded, scheduling load and callback at\", now());\n",
       "    window._bokeh_is_loading = js_urls.length;\n",
       "    for (var i = 0; i < js_urls.length; i++) {\n",
       "      var url = js_urls[i];\n",
       "      var s = document.createElement('script');\n",
       "      s.src = url;\n",
       "      s.async = false;\n",
       "      s.onreadystatechange = s.onload = function() {\n",
       "        window._bokeh_is_loading--;\n",
       "        if (window._bokeh_is_loading === 0) {\n",
       "          console.log(\"Bokeh: all BokehJS libraries loaded\");\n",
       "          run_callbacks()\n",
       "        }\n",
       "      };\n",
       "      s.onerror = function() {\n",
       "        console.warn(\"failed to load library \" + url);\n",
       "      };\n",
       "      console.log(\"Bokeh: injecting script tag for BokehJS library: \", url);\n",
       "      document.getElementsByTagName(\"head\")[0].appendChild(s);\n",
       "    }\n",
       "  };var element = document.getElementById(\"496edd2a-158f-4595-9e31-8064b398d412\");\n",
       "  if (element == null) {\n",
       "    console.log(\"Bokeh: ERROR: autoload.js configured with elementid '496edd2a-158f-4595-9e31-8064b398d412' but no matching script tag was found. \")\n",
       "    return false;\n",
       "  }\n",
       "\n",
       "  var js_urls = [\"https://cdn.pydata.org/bokeh/release/bokeh-0.12.5.min.js\", \"https://cdn.pydata.org/bokeh/release/bokeh-widgets-0.12.5.min.js\"];\n",
       "\n",
       "  var inline_js = [\n",
       "    function(Bokeh) {\n",
       "      Bokeh.set_log_level(\"info\");\n",
       "    },\n",
       "    \n",
       "    function(Bokeh) {\n",
       "      \n",
       "    },\n",
       "    \n",
       "    function(Bokeh) {\n",
       "      \n",
       "      document.getElementById(\"496edd2a-158f-4595-9e31-8064b398d412\").textContent = \"BokehJS is loading...\";\n",
       "    },\n",
       "    function(Bokeh) {\n",
       "      console.log(\"Bokeh: injecting CSS: https://cdn.pydata.org/bokeh/release/bokeh-0.12.5.min.css\");\n",
       "      Bokeh.embed.inject_css(\"https://cdn.pydata.org/bokeh/release/bokeh-0.12.5.min.css\");\n",
       "      console.log(\"Bokeh: injecting CSS: https://cdn.pydata.org/bokeh/release/bokeh-widgets-0.12.5.min.css\");\n",
       "      Bokeh.embed.inject_css(\"https://cdn.pydata.org/bokeh/release/bokeh-widgets-0.12.5.min.css\");\n",
       "    }\n",
       "  ];\n",
       "\n",
       "  function run_inline_js() {\n",
       "    \n",
       "    if ((window.Bokeh !== undefined) || (force === true)) {\n",
       "      for (var i = 0; i < inline_js.length; i++) {\n",
       "        inline_js[i](window.Bokeh);\n",
       "      }if (force === true) {\n",
       "        display_loaded();\n",
       "      }} else if (Date.now() < window._bokeh_timeout) {\n",
       "      setTimeout(run_inline_js, 100);\n",
       "    } else if (!window._bokeh_failed_load) {\n",
       "      console.log(\"Bokeh: BokehJS failed to load within specified timeout.\");\n",
       "      window._bokeh_failed_load = true;\n",
       "    } else if (force !== true) {\n",
       "      var cell = $(document.getElementById(\"496edd2a-158f-4595-9e31-8064b398d412\")).parents('.cell').data().cell;\n",
       "      cell.output_area.append_execute_result(NB_LOAD_WARNING)\n",
       "    }\n",
       "\n",
       "  }\n",
       "\n",
       "  if (window._bokeh_is_loading === 0) {\n",
       "    console.log(\"Bokeh: BokehJS loaded, going straight to plotting\");\n",
       "    run_inline_js();\n",
       "  } else {\n",
       "    load_libs(js_urls, function() {\n",
       "      console.log(\"Bokeh: BokehJS plotting callback run at\", now());\n",
       "      run_inline_js();\n",
       "    });\n",
       "  }\n",
       "}(this));"
      ]
     },
     "metadata": {},
     "output_type": "display_data"
    }
   ],
   "source": [
    "from bokeh.io import output_notebook\n",
    "output_notebook()"
   ]
  },
  {
   "cell_type": "code",
   "execution_count": 3,
   "metadata": {
    "collapsed": true
   },
   "outputs": [],
   "source": [
    "from bokeh.io import show\n",
    "from bokeh.plotting import figure"
   ]
  },
  {
   "cell_type": "code",
   "execution_count": 4,
   "metadata": {
    "collapsed": false
   },
   "outputs": [],
   "source": [
    "final_data = pd.read_csv('final_output.csv')\n",
    "# final_data.loc[final_data['TEAM'] == 'DAL'].PLAYER.unique()"
   ]
  },
  {
   "cell_type": "code",
   "execution_count": 5,
   "metadata": {
    "collapsed": true
   },
   "outputs": [],
   "source": [
    "from bokeh.models import ColumnDataSource\n",
    "source = ColumnDataSource(dict(\n",
    "    x=final_data.PC1,\n",
    "    y=final_data.PC2,\n",
    "    player=final_data.PLAYER,\n",
    "    team=final_data.TEAM,\n",
    "    age=final_data.AGE,\n",
    "    games_played=final_data.GP,\n",
    "    clusters=final_data.db_label,\n",
    "    plus_minus=final_data['+/-'],\n",
    "    points=final_data.PTS\n",
    "    )\n",
    ")"
   ]
  },
  {
   "cell_type": "code",
   "execution_count": 6,
   "metadata": {
    "collapsed": true
   },
   "outputs": [],
   "source": [
    "from bokeh.models import HoverTool"
   ]
  },
  {
   "cell_type": "code",
   "execution_count": 7,
   "metadata": {
    "collapsed": false
   },
   "outputs": [],
   "source": [
    "from bokeh.models import LinearInterpolator, LinearColorMapper, ColorBar, BoxZoomTool, ResetTool\n",
    "from bokeh.palettes import Plasma256\n",
    "\n",
    "color_mapper = LinearColorMapper(\n",
    "    palette = Plasma256,\n",
    "    low=final_data.PTS.min(), \n",
    "    high=final_data.PTS.max()\n",
    ")\n",
    "\n",
    "size_mapper = LinearInterpolator(\n",
    "    x=[final_data.PTS.min(), final_data.PTS.max()],\n",
    "    y=[2, 40]\n",
    ")"
   ]
  },
  {
   "cell_type": "code",
   "execution_count": 8,
   "metadata": {
    "collapsed": true
   },
   "outputs": [],
   "source": [
    "from ipywidgets import interact\n",
    "from bokeh.io import push_notebook\n",
    "\n",
    "def update(player):\n",
    "    cluster = int(final_data.loc[final_data['PLAYER'] == player].db_label)\n",
    "    new_data = dict(\n",
    "        x=final_data.loc[final_data['db_label'] == cluster].PC1,\n",
    "        y=final_data.loc[final_data['db_label'] == cluster].PC2,\n",
    "        player=final_data.loc[final_data['db_label'] == cluster].PLAYER,\n",
    "        team=final_data.loc[final_data['db_label'] == cluster].TEAM,\n",
    "        age=final_data.loc[final_data['db_label'] == cluster].AGE,\n",
    "        games_played=final_data.loc[final_data['db_label'] == cluster].GP,\n",
    "        clusters=final_data.loc[final_data['db_label'] == cluster].db_label,\n",
    "        plus_minus=final_data.loc[final_data['db_label'] == cluster]['+/-'],\n",
    "        points=final_data.loc[final_data['db_label'] == cluster].PTS\n",
    "    )\n",
    "    source.data = new_data\n",
    "    p.title.text = str('Basketballers similar to %s during the 2015/16 season' % player)\n",
    "    push_notebook()"
   ]
  },
  {
   "cell_type": "code",
   "execution_count": 9,
   "metadata": {
    "collapsed": false
   },
   "outputs": [
    {
     "data": {
      "text/html": [
       "\n",
       "\n",
       "    <div class=\"bk-root\">\n",
       "        <div class=\"bk-plotdiv\" id=\"3510c4c9-92ae-47e1-bb99-2b6c7f7d8625\"></div>\n",
       "    </div>\n",
       "<script type=\"text/javascript\">\n",
       "  \n",
       "  (function(global) {\n",
       "    function now() {\n",
       "      return new Date();\n",
       "    }\n",
       "  \n",
       "    var force = false;\n",
       "  \n",
       "    if (typeof (window._bokeh_onload_callbacks) === \"undefined\" || force === true) {\n",
       "      window._bokeh_onload_callbacks = [];\n",
       "      window._bokeh_is_loading = undefined;\n",
       "    }\n",
       "  \n",
       "  \n",
       "    \n",
       "    if (typeof (window._bokeh_timeout) === \"undefined\" || force === true) {\n",
       "      window._bokeh_timeout = Date.now() + 0;\n",
       "      window._bokeh_failed_load = false;\n",
       "    }\n",
       "  \n",
       "    var NB_LOAD_WARNING = {'data': {'text/html':\n",
       "       \"<div style='background-color: #fdd'>\\n\"+\n",
       "       \"<p>\\n\"+\n",
       "       \"BokehJS does not appear to have successfully loaded. If loading BokehJS from CDN, this \\n\"+\n",
       "       \"may be due to a slow or bad network connection. Possible fixes:\\n\"+\n",
       "       \"</p>\\n\"+\n",
       "       \"<ul>\\n\"+\n",
       "       \"<li>re-rerun `output_notebook()` to attempt to load from CDN again, or</li>\\n\"+\n",
       "       \"<li>use INLINE resources instead, as so:</li>\\n\"+\n",
       "       \"</ul>\\n\"+\n",
       "       \"<code>\\n\"+\n",
       "       \"from bokeh.resources import INLINE\\n\"+\n",
       "       \"output_notebook(resources=INLINE)\\n\"+\n",
       "       \"</code>\\n\"+\n",
       "       \"</div>\"}};\n",
       "  \n",
       "    function display_loaded() {\n",
       "      if (window.Bokeh !== undefined) {\n",
       "        var el = document.getElementById(\"3510c4c9-92ae-47e1-bb99-2b6c7f7d8625\");\n",
       "        el.textContent = \"BokehJS \" + Bokeh.version + \" successfully loaded.\";\n",
       "      } else if (Date.now() < window._bokeh_timeout) {\n",
       "        setTimeout(display_loaded, 100)\n",
       "      }\n",
       "    }if ((window.Jupyter !== undefined) && Jupyter.notebook.kernel) {\n",
       "      comm_manager = Jupyter.notebook.kernel.comm_manager\n",
       "      comm_manager.register_target(\"a600dea7-683f-499c-a543-6bee541d1fc6\", function () {});\n",
       "    }\n",
       "  \n",
       "    function run_callbacks() {\n",
       "      window._bokeh_onload_callbacks.forEach(function(callback) { callback() });\n",
       "      delete window._bokeh_onload_callbacks\n",
       "      console.info(\"Bokeh: all callbacks have finished\");\n",
       "    }\n",
       "  \n",
       "    function load_libs(js_urls, callback) {\n",
       "      window._bokeh_onload_callbacks.push(callback);\n",
       "      if (window._bokeh_is_loading > 0) {\n",
       "        console.log(\"Bokeh: BokehJS is being loaded, scheduling callback at\", now());\n",
       "        return null;\n",
       "      }\n",
       "      if (js_urls == null || js_urls.length === 0) {\n",
       "        run_callbacks();\n",
       "        return null;\n",
       "      }\n",
       "      console.log(\"Bokeh: BokehJS not loaded, scheduling load and callback at\", now());\n",
       "      window._bokeh_is_loading = js_urls.length;\n",
       "      for (var i = 0; i < js_urls.length; i++) {\n",
       "        var url = js_urls[i];\n",
       "        var s = document.createElement('script');\n",
       "        s.src = url;\n",
       "        s.async = false;\n",
       "        s.onreadystatechange = s.onload = function() {\n",
       "          window._bokeh_is_loading--;\n",
       "          if (window._bokeh_is_loading === 0) {\n",
       "            console.log(\"Bokeh: all BokehJS libraries loaded\");\n",
       "            run_callbacks()\n",
       "          }\n",
       "        };\n",
       "        s.onerror = function() {\n",
       "          console.warn(\"failed to load library \" + url);\n",
       "        };\n",
       "        console.log(\"Bokeh: injecting script tag for BokehJS library: \", url);\n",
       "        document.getElementsByTagName(\"head\")[0].appendChild(s);\n",
       "      }\n",
       "    };var element = document.getElementById(\"3510c4c9-92ae-47e1-bb99-2b6c7f7d8625\");\n",
       "    if (element == null) {\n",
       "      console.log(\"Bokeh: ERROR: autoload.js configured with elementid '3510c4c9-92ae-47e1-bb99-2b6c7f7d8625' but no matching script tag was found. \")\n",
       "      return false;\n",
       "    }\n",
       "  \n",
       "    var js_urls = [];\n",
       "  \n",
       "    var inline_js = [\n",
       "      function(Bokeh) {\n",
       "        (function() {\n",
       "          var fn = function() {\n",
       "            var docs_json = {\"b668a693-1656-418a-8a22-ae7bad78494f\":{\"roots\":{\"references\":[{\"attributes\":{},\"id\":\"81c81b64-0991-4aa6-b233-a64ea29eae69\",\"type\":\"BasicTickFormatter\"},{\"attributes\":{},\"id\":\"c571733d-0904-4976-bcef-bef1203021ca\",\"type\":\"ToolEvents\"},{\"attributes\":{},\"id\":\"8ad94fef-54e2-4032-a27c-164d9845a9c0\",\"type\":\"BasicTickFormatter\"},{\"attributes\":{\"fill_alpha\":{\"value\":0.5},\"fill_color\":{\"field\":\"points\",\"transform\":{\"id\":\"b59b7e3b-5b8c-4e78-9ab0-b6d61f85655b\",\"type\":\"LinearColorMapper\"}},\"line_alpha\":{\"value\":0.5},\"line_color\":{\"field\":\"points\",\"transform\":{\"id\":\"b59b7e3b-5b8c-4e78-9ab0-b6d61f85655b\",\"type\":\"LinearColorMapper\"}},\"size\":{\"field\":\"points\",\"transform\":{\"id\":\"812e46b0-7956-4ff0-82fe-c89601607ad6\",\"type\":\"LinearInterpolator\"},\"units\":\"screen\"},\"x\":{\"field\":\"x\"},\"y\":{\"field\":\"y\"}},\"id\":\"b158b475-cc7a-44bd-9c63-4babcc6d0d1c\",\"type\":\"Circle\"},{\"attributes\":{\"active_drag\":\"auto\",\"active_scroll\":\"auto\",\"active_tap\":\"auto\",\"tools\":[{\"id\":\"8beb0159-9989-4859-9c94-95874c5a58f7\",\"type\":\"HoverTool\"},{\"id\":\"bca0546a-4314-4b64-a79b-f088bf4951f2\",\"type\":\"BoxZoomTool\"},{\"id\":\"59d88daa-f3f8-4320-8eae-3f25b9322298\",\"type\":\"ResetTool\"}]},\"id\":\"9b69bfa5-9b52-42d1-a0c4-fc318a533173\",\"type\":\"Toolbar\"},{\"attributes\":{\"callback\":null},\"id\":\"0ea22220-03bd-4e67-b61a-9ee24487c979\",\"type\":\"DataRange1d\"},{\"attributes\":{\"callback\":null,\"column_names\":[\"clusters\",\"plus_minus\",\"age\",\"team\",\"player\",\"points\",\"games_played\",\"y\",\"x\"],\"data\":{\"age\":[28,26,27,25,31,25,23,27,26,26,27,26,32,27,30,25,26,26,24,21,28,26,25,26,24,24,27,31,32,34,26,20,38,25,24,30,37,20,23,29,31,28,21,26,31,35,24,27,32,22,27,24,28,24,23,29,26,28,34,27,30,25,26,28,27,23,23,23,25,20,27,25,36,30,26,32,21,21,28,26,30,19,30,27,32,24,20,35,32,20,25,30,24,27,27,22,24,31,27,26,29,26,30,31,21,35,30,30,31,26,30,34,28,25,29,29,24,27,30,26,23,24,25,21,27,22,26,29,22,25,22,32,22,23,27,27,23,27,29,20,24,30,24,28,30,25,26,25,36,25,21,30,25,27,25,24,32,31,22,29,30,38,32,24,33,25,29,35,20,33,29,22,26,24,23,30,30,21,23,28,24,23,36,24,30,24,28,26,31,40,32,27,27,24,22,24,23,34,25,33,21,28,20,31,22,24,30,25,28,23,33,28,34,24,33,34,28,28,27,25,23,26,28,29,30,31,23,29,25,30,30,31,35,33,31,28,35,22,21,32,22,25,27,26,28,28,26,27,28,26,25,27,30,39,22,26,27,31,20,32,24,23,34,33,29,30,29,25,23,27,38,20,24,33,26,21,29,30,26,24,28,28,29,27,24,38,28,24,32,24,33,26,21,24,22,29,28,23,24,22,23,30,31,23,36,23,23,27,27,27,31,33,31,24,25,27,31,28,23,25,28,29,36,33,21,32,23,24,26,26,21,33,27,30,25,22,21,33,29,23,26,36,29,25,32,31,26,30,25,28,20,25,25,37,28,30,23,24,23,29,26,37,24,22,22,24,20,27,35,36,24,40,24,30,20,23,22,20,25,29,27,21,27,24,28,23,31,25,25,25,24,40,29,19,29,25,23,23,35,26,23,36,23,24,25,28,27,34,34,25,37,22,33,26,25,25,36,25,29,31,39,22,24,23,33,24,25,28,30,24,30,23,23,27,35,32,23,33,26,25,22,27,25,28,21,20,33,29,27,38,25,36,25,27,23,25,36,21,24,20,24,23,23,24,20,22,23,33,31,21,23,24,20,32,24,22],\"clusters\":[0,0,1,2,2,3,4,5,6,0,3,7,5,4,8,5,5,0,3,9,10,0,0,0,3,3,6,3,11,12,3,4,6,10,3,13,3,14,3,2,2,6,15,3,2,4,16,3,17,16,18,1,3,3,3,3,19,3,20,21,9,3,0,10,0,9,3,3,6,9,14,11,22,6,6,23,14,3,3,2,6,3,16,6,14,3,3,24,3,6,6,25,14,26,14,14,27,3,6,14,21,14,3,28,3,3,29,3,14,9,6,3,30,6,29,28,28,3,28,6,28,31,28,14,25,10,25,3,22,17,32,25,28,17,22,28,33,22,24,34,14,3,25,14,17,6,14,3,30,28,31,29,25,3,29,3,35,36,14,25,3,3,3,37,17,33,14,25,14,14,38,6,16,14,14,29,39,29,29,40,24,14,41,29,17,42,43,25,44,14,14,45,24,28,25,29,29,14,29,36,14,29,29,28,46,35,29,46,22,29,47,48,17,29,29,17,17,24,29,17,49,42,50,14,29,37,51,29,29,29,35,47,29,46,37,49,52,46,35,28,46,53,37,54,25,55,36,29,43,33,37,56,57,29,29,58,46,33,24,42,37,35,49,29,53,59,53,33,29,29,29,33,29,29,60,29,33,49,29,29,61,41,58,62,36,37,58,29,63,35,53,29,42,29,64,36,29,29,37,61,29,65,61,37,29,61,66,67,46,53,58,36,37,37,68,67,37,33,68,29,67,33,29,37,37,37,69,35,61,70,33,37,37,37,37,33,37,37,68,41,67,48,33,53,37,26,67,69,71,37,37,29,37,68,72,37,37,73,37,55,74,64,37,69,72,37,37,72,65,37,37,75,37,67,74,69,76,37,37,29,69,29,77,67,37,78,79,29,37,37,37,74,74,37,74,37,37,80,81,69,64,37,82,72,80,83,75,37,37,37,37,65,82,37,37,37,37,37,37,83,37,37,37,37,65,37,73,82,37,76,37,82,37,80,83,37,37,72,37,37,37,37,37,37,37,37,80,84,37,37,80,37,37,37,37,37,37,85,80,80,37,37,37,73,37,80,37,73,85,37,37,37,37,37,86,86],\"games_played\":[79,82,72,65,76,75,61,80,78,81,82,80,72,35,77,72,67,81,80,81,73,31,77,80,53,52,53,74,53,74,79,82,75,65,79,74,66,53,55,70,81,66,80,65,52,72,62,66,75,81,77,72,79,79,79,67,79,56,68,45,82,76,25,73,70,76,79,76,82,72,73,73,79,72,80,65,76,82,74,81,81,76,71,61,75,31,80,1,32,68,67,71,60,20,77,7,82,81,77,78,78,67,77,74,76,81,79,74,47,64,72,72,69,66,64,80,66,78,81,75,75,54,11,81,79,67,31,26,80,77,47,74,73,64,45,81,82,52,74,60,81,61,81,82,68,82,82,76,76,69,80,82,73,71,77,78,36,40,77,61,79,58,80,81,55,80,71,80,78,57,12,61,82,61,78,69,58,57,67,73,66,73,76,36,61,50,72,52,73,61,76,81,67,80,73,61,8,64,69,41,32,59,73,82,80,59,81,82,41,68,55,76,39,82,64,72,62,70,59,76,81,78,3,79,80,54,78,79,22,82,76,66,31,66,69,72,78,77,62,65,66,57,47,46,61,12,48,79,80,56,44,78,46,60,52,14,81,53,78,75,51,78,76,68,81,78,76,37,66,75,68,80,81,70,60,79,80,55,55,1,59,57,81,35,81,72,79,62,81,69,52,54,29,14,27,23,66,14,43,51,76,68,36,49,74,63,82,54,60,79,70,62,72,64,59,61,62,60,73,51,34,57,35,13,57,61,12,70,65,39,24,44,53,12,22,78,46,53,73,7,58,58,78,71,33,29,51,72,36,81,37,59,43,17,66,51,38,1,29,68,48,27,27,45,55,41,63,7,48,17,30,39,55,34,78,21,39,17,66,42,51,2,25,39,68,31,37,23,41,37,60,38,47,70,75,23,66,2,46,70,10,77,41,5,8,8,8,16,30,44,46,36,53,5,26,52,30,8,43,37,59,40,26,37,10,35,18,30,44,11,33,29,28,29,59,24,3,2,12,18,39,12,17,20,20,5,29,17,5,5,7,37,15,6,19,9,47,16,20,8,5,12,34,8,29,7,8,19,25,21,6,5,6,2,2,3],\"player\":[\"Stephen Curry\",\"James Harden\",\"Kevin Durant\",\"DeMarcus Cousins\",\"LeBron James\",\"Damian Lillard\",\"Anthony Davis\",\"Russell Westbrook\",\"DeMar DeRozan\",\"Paul George\",\"Isaiah Thomas\",\"Klay Thompson\",\"Carmelo Anthony\",\"Blake Griffin\",\"Kyle Lowry\",\"Kawhi Leonard\",\"Jimmy Butler\",\"Kemba Walker\",\"CJ McCollum\",\"Andrew Wiggins\",\"Brook Lopez\",\"Eric Bledsoe\",\"John Wall\",\"Gordon Hayward\",\"Kyrie Irving\",\"Brandon Knight\",\"Danilo Gallinari\",\"Chris Paul\",\"Chris Bosh\",\"Dwyane Wade\",\"Reggie Jackson\",\"Karl-Anthony Towns\",\"Dirk Nowitzki\",\"Nikola Vucevic\",\"Khris Middleton\",\"LaMarcus Aldridge\",\"Kobe Bryant\",\"Jahlil Okafor\",\"Bradley Beal\",\"Rudy Gay\",\"Paul Millsap\",\"Ryan Anderson\",\"Giannis Antetokounmpo\",\"Jrue Holiday\",\"Marc Gasol\",\"Pau Gasol\",\"Derrick Favors\",\"Derrick Rose\",\"JJ Redick\",\"Andre Drummond\",\"Kevin Love\",\"Victor Oladipo\",\"Jeff Teague\",\"Jordan Clarkson\",\"Evan Fournier\",\"Lou Williams\",\"Greg Monroe\",\"Mike Conley\",\"Zach Randolph\",\"Eric Gordon\",\"Al Horford\",\"Avery Bradley\",\"Tyreke Evans\",\"Thaddeus Young\",\"Nicolas Batum\",\"Tobias Harris\",\"Rodney Hood\",\"Kentavious Caldwell-Pope\",\"Will Barton\",\"Kristaps Porzingis\",\"Hassan Whiteside\",\"Jae Crowder\",\"Jamal Crawford\",\"Goran Dragic\",\"Marcus Morris\",\"Deron Williams\",\"Jabari Parker\",\"Zach LaVine\",\"Darren Collison\",\"Draymond Green\",\"Monta Ellis\",\"Devin Booker\",\"Dwight Howard\",\"Chandler Parsons\",\"Marcin Gortat\",\"Alec Burks\",\"D'Angelo Russell\",\"Dahntay Jones\",\"Jarrett Jack\",\"Emmanuel Mudiay\",\"Robert Covington\",\"Arron Afflalo\",\"Jonas Valanciunas\",\"Michael Beasley\",\"DeAndre Jordan\",\"Michael Kidd-Gilchrist\",\"Enes Kanter\",\"Trevor Ariza\",\"Ish Smith\",\"Serge Ibaka\",\"Wesley Matthews\",\"Kenneth Faried\",\"JR Smith\",\"Luol Deng\",\"Gary Harris\",\"Joe Johnson\",\"Mirza Teletovic\",\"George Hill\",\"Al Jefferson\",\"Markieff Morris\",\"Rajon Rondo\",\"Tony Parker\",\"Omri Casspi\",\"Nikola Mirotic\",\"CJ Miles\",\"Jeff Green\",\"Harrison Barnes\",\"Jeremy Lin\",\"Marvin Williams\",\"Kent Bazemore\",\"Otto Porter Jr.\",\"Michael Carter-Williams\",\"Jordan Hamilton\",\"Julius Randle\",\"Bojan Bogdanovic\",\"Nerlens Noel\",\"Sean Kilpatrick\",\"DeMarre Carroll\",\"Dennis Schroder\",\"Isaiah Canaan\",\"TJ Warren\",\"J.J. Barea\",\"Elfrid Payton\",\"Trey Burke\",\"Norris Cole\",\"Evan Turner\",\"Shabazz Muhammad\",\"Jerryd Bayless\",\"Ersan Ilyasova\",\"Myles Turner\",\"Jared Sullinger\",\"Mario Chalmers\",\"Allen Crabbe\",\"Robin Lopez\",\"Marco Belinelli\",\"Al-Farouq Aminu\",\"Gorgui Dieng\",\"Ricky Rubio\",\"Matt Barnes\",\"Kelly Olynyk\",\"Nikola Jokic\",\"Ramon Sessions\",\"Terrence Ross\",\"Patrick Beverley\",\"Hollis Thompson\",\"Dion Waiters\",\"Carl Landry\",\"Gary Neal\",\"Jerami Grant\",\"Marcus Thornton\",\"Courtney Lee\",\"Manu Ginobili\",\"Raymond Felton\",\"Doug McDermott\",\"Kevin Martin\",\"Derrick Williams\",\"Ian Mahinmi\",\"Kyle Korver\",\"Aaron Gordon\",\"Nene\",\"Jordan Farmar\",\"Marcus Smart\",\"Mason Plumlee\",\"Rudy Gobert\",\"Alex Len\",\"Gerald Green\",\"Rodney Stuckey\",\"Archie Goodwin\",\"Austin Rivers\",\"Jordan Hill\",\"Jeremy Lamb\",\"Cody Zeller\",\"Luis Scola\",\"Tyler Johnson\",\"Toney Douglas\",\"Terrence Jones\",\"Gerald Henderson\",\"Shelvin Mack\",\"Taj Gibson\",\"Tim Duncan\",\"Zaza Pachulia\",\"Patty Mills\",\"Jon Leuer\",\"Cory Joseph\",\"Nik Stauskas\",\"Meyers Leonard\",\"Tony Wroten\",\"Tony Allen\",\"Lance Stephenson\",\"Mo Williams\",\"Jusuf Nurkic\",\"Lance Thomas\",\"Stanley Johnson\",\"PJ Tucker\",\"Steven Adams\",\"Joffrey Lauvergne\",\"Jared Dudley\",\"Tristan Thompson\",\"O.J. Mayo\",\"Ben McLemore\",\"David Lee\",\"Wayne Ellington\",\"Jameer Nelson\",\"Langston Galloway\",\"Devin Harris\",\"Jose Calderon\",\"D.J. Augustin\",\"Darrell Arthur\",\"E'Twaun Moore\",\"Matthew Dellavedova\",\"Frank Kaminsky\",\"JaMychal Green\",\"Jodie Meeks\",\"Amir Johnson\",\"Garrett Temple\",\"Nick Young\",\"Shane Larkin\",\"Danny Green\",\"James Ennis III\",\"Corey Brewer\",\"Jason Smith\",\"Brandon Bass\",\"Mike Dunleavy\",\"Tyson Chandler\",\"Aaron Brooks\",\"Marreese Speights\",\"David West\",\"Clint Capela\",\"Bobby Portis\",\"Andre Iguodala\",\"Willie Cauley-Stein\",\"John Henson\",\"Luke Babbitt\",\"Festus Ezeli\",\"Donald Sloan\",\"Brandan Wright\",\"Brandon Jennings\",\"Patrick Patterson\",\"Wesley Johnson\",\"Andrew Nicholson\",\"Seth Curry\",\"Kosta Koufos\",\"Andrea Bargnani\",\"Vince Carter\",\"Josh Richardson\",\"Henry Sims\",\"Ed Davis\",\"Kris Humphries\",\"Justise Winslow\",\"Thabo Sefolosha\",\"Tim Hardaway Jr.\",\"Maurice Harkless\",\"Boris Diaw\",\"Leandro Barbosa\",\"Aron Baynes\",\"Shaun Livingston\",\"Timofey Mozgov\",\"Donatas Motiejunas\",\"PJ Hairston\",\"Mike Scott\",\"Paul Pierce\",\"Trey Lyles\",\"T.J. McConnell\",\"Channing Frye\",\"Tyler Zeller\",\"Mario Hezonja\",\"Dante Cunningham\",\"Josh Smith\",\"Jonathon Simmons\",\"Duje Dukan\",\"Alexis Ajinca\",\"Spencer Hawes\",\"Roy Hibbert\",\"JJ Hickson\",\"Raul Neto\",\"Jason Terry\",\"Trevor Booker\",\"Markel Brown\",\"Randy Foye\",\"Dwight Powell\",\"Amar'e Stoudemire\",\"Iman Shumpert\",\"Rondae Hollis-Jefferson\",\"Xavier Munford\",\"Jarell Martin\",\"Greivis Vasquez\",\"Ty Lawson\",\"Bryce Dejean-Jones\",\"Troy Daniels\",\"Richaun Holmes\",\"Jerian Grant\",\"Anthony Morrow\",\"Tiago Splitter\",\"Norman Powell\",\"Richard Jefferson\",\"Larry Nance Jr.\",\"Bismack Biyombo\",\"Boban Marjanovic\",\"Cole Aldrich\",\"Lavoy Allen\",\"Andrew Bogut\",\"Ronnie Price\",\"Anthony Tolliver\",\"Tony Snell\",\"Quincy Acy\",\"Miles Plumlee\",\"Charlie Villanueva\",\"Nemanja Bjelica\",\"JaKarr Sampson\",\"Tim Frazier\",\"JaVale McGee\",\"James Johnson\",\"Metta World Peace\",\"Alan Anderson\",\"Cameron Payne\",\"Sasha Vujacic\",\"Spencer Dinwiddie\",\"Andre Roberson\",\"Kyle O'Quinn\",\"Willie Reed\",\"Chris McCullough\",\"Beno Udrih\",\"Justin Holiday\",\"Nikola Pekovic\",\"Jordan McRae\",\"Kyle Anderson\",\"Tyler Ennis\",\"Marcelo Huertas\",\"Alonzo Gee\",\"Briante Weber\",\"Dewayne Dedmon\",\"Steve Blake\",\"Jonas Jerebko\",\"Thomas Robinson\",\"C.J. Watson\",\"Joakim Noah\",\"Jeff Withey\",\"Brandon Rush\",\"Ryan Kelly\",\"Joe Ingles\",\"Tyus Jones\",\"Solomon Hill\",\"John Jenkins\",\"Elton Brand\",\"Chase Budinger\",\"Brian Roberts\",\"Darrun Hilliard\",\"Rakeem Christmas\",\"Anthony Brown\",\"Omer Asik\",\"Kevin Seraphin\",\"Chris Andersen\",\"Delon Wright\",\"Glenn Robinson III\",\"Justin Anderson\",\"Joe Young\",\"Kelly Oubre Jr.\",\"Orlando Johnson\",\"James Jones\",\"Caron Butler\",\"Kendall Marshall\",\"Andre Miller\",\"Shabazz Napier\",\"Salah Mejri\",\"Noah Vonleh\",\"Axel Toupane\",\"Montrezl Harrell\",\"Christian Wood\",\"Ian Clark\",\"Josh McRoberts\",\"James Anderson\",\"Jordan Adams\",\"Robert Sacre\",\"Tarik Black\",\"Kyle Singler\",\"Cristiano Felicio\",\"Ryan Hollins\",\"Phil Pressey\",\"Ray McCallum\",\"Reggie Bullock\",\"Mike Muscala\",\"Kevin Garnett\",\"Jason Thompson\",\"Rashad Vaughn\",\"Luc Mbah a Moute\",\"CJ Wilcox\",\"Johnny O'Bryant III\",\"Thanasis Antetokounmpo\",\"Kirk Hinrich\",\"Chris Johnson\",\"Alan Williams\",\"Tayshaun Prince\",\"James Michael McAdoo\",\"Josh Huestis\",\"Cory Jefferson\",\"Alex Stepheson\",\"Andrew Goudelock\",\"Chris Kaman\",\"Drew Gooden\",\"Jared Cunningham\",\"Rasual Butler\",\"RJ Hunter\",\"Anderson Varejao\",\"Justin Harper\",\"Kostas Papanikolaou\",\"Adreian Payne\",\"Matt Bonner\",\"Lorenzo Brown\",\"Sonny Weems\",\"Kendrick Perkins\",\"Pablo Prigioni\",\"Sergey Karasev\",\"Jarell Eddie\",\"KJ McDaniels\",\"Steve Novak\",\"Lamar Patterson\",\"Greg Smith\",\"Jeremy Evans\",\"Tyler Hansbrough\",\"Edy Tavares\",\"Damjan Rudez\",\"Lucas Nogueira\",\"Devyn Marble\",\"DeJuan Blair\",\"Nick Collison\",\"Chris Copeland\",\"Coty Clarke\",\"Chuck Hayes\",\"Tibor Pleiss\",\"Cameron Bairstow\",\"Terry Rozier\",\"Jorge Gutierrez\",\"Cleanthony Early\",\"Elijah Millsap\",\"Damien Inglis\",\"Kevon Looney\",\"Lou Amundson\",\"Jeff Ayres\",\"Elliot Williams\",\"Nazr Mohammed\",\"Shayne Whittington\",\"Udonis Haslem\",\"Russ Smith\",\"Jimmer Fredette\",\"Anthony Bennett\",\"Erick Green\",\"Mike Miller\",\"Jordan Mickey\",\"Mitch McGary\",\"Cliff Alexander\",\"Keith Appling\",\"Luis Montero\",\"Pat Connaughton\",\"Eric Moreland\",\"James Young\",\"Jarnell Stokes\",\"Bryce Cotton\",\"Joel Anthony\",\"Sasha Kaun\",\"Aaron Harrison\",\"Branden Dawson\",\"Joe Harris\",\"Bruno Caboclo\",\"Nate Robinson\",\"JJ O'Brien\",\"Sam Dekker\"],\"plus_minus\":{\"__ndarray__\":\"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\",\"dtype\":\"float64\",\"shape\":[476]},\"points\":{\"__ndarray__\":\"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\",\"dtype\":\"float64\",\"shape\":[476]},\"team\":[\"GSW\",\"HOU\",\"OKC\",\"SAC\",\"CLE\",\"POR\",\"NOP\",\"OKC\",\"TOR\",\"IND\",\"BOS\",\"GSW\",\"NYK\",\"LAC\",\"TOR\",\"SAS\",\"CHI\",\"CHA\",\"POR\",\"MIN\",\"BKN\",\"PHX\",\"WAS\",\"UTA\",\"CLE\",\"PHX\",\"DEN\",\"LAC\",\"MIA\",\"MIA\",\"DET\",\"MIN\",\"DAL\",\"ORL\",\"MIL\",\"SAS\",\"LAL\",\"PHI\",\"WAS\",\"SAC\",\"ATL\",\"NOP\",\"MIL\",\"NOP\",\"MEM\",\"CHI\",\"UTA\",\"CHI\",\"LAC\",\"DET\",\"CLE\",\"ORL\",\"ATL\",\"LAL\",\"ORL\",\"LAL\",\"MIL\",\"MEM\",\"MEM\",\"NOP\",\"ATL\",\"BOS\",\"NOP\",\"BKN\",\"CHA\",\"DET\",\"UTA\",\"DET\",\"DEN\",\"NYK\",\"MIA\",\"BOS\",\"LAC\",\"MIA\",\"DET\",\"DAL\",\"MIL\",\"MIN\",\"SAC\",\"GSW\",\"IND\",\"PHX\",\"HOU\",\"DAL\",\"WAS\",\"UTA\",\"LAL\",\"CLE\",\"BKN\",\"DEN\",\"PHI\",\"NYK\",\"TOR\",\"HOU\",\"LAC\",\"CHA\",\"OKC\",\"HOU\",\"PHI\",\"OKC\",\"DAL\",\"DEN\",\"CLE\",\"MIA\",\"DEN\",\"MIA\",\"PHX\",\"IND\",\"CHA\",\"WAS\",\"SAC\",\"SAS\",\"SAC\",\"CHI\",\"IND\",\"LAC\",\"GSW\",\"CHA\",\"CHA\",\"ATL\",\"WAS\",\"MIL\",\"NOP\",\"LAL\",\"BKN\",\"PHI\",\"BKN\",\"TOR\",\"ATL\",\"PHI\",\"PHX\",\"DAL\",\"ORL\",\"UTA\",\"NOP\",\"BOS\",\"MIN\",\"MIL\",\"ORL\",\"IND\",\"BOS\",\"MIA\",\"POR\",\"NYK\",\"SAC\",\"POR\",\"MIN\",\"MIN\",\"MEM\",\"BOS\",\"DEN\",\"WAS\",\"TOR\",\"HOU\",\"PHI\",\"OKC\",\"PHI\",\"WAS\",\"PHI\",\"WAS\",\"CHA\",\"SAS\",\"DAL\",\"CHI\",\"SAS\",\"NYK\",\"IND\",\"ATL\",\"ORL\",\"WAS\",\"MEM\",\"BOS\",\"POR\",\"UTA\",\"PHX\",\"MIA\",\"IND\",\"PHX\",\"LAC\",\"IND\",\"CHA\",\"CHA\",\"TOR\",\"MIA\",\"NOP\",\"HOU\",\"POR\",\"UTA\",\"CHI\",\"SAS\",\"DAL\",\"SAS\",\"PHX\",\"TOR\",\"PHI\",\"POR\",\"NYK\",\"MEM\",\"MEM\",\"CLE\",\"DEN\",\"NYK\",\"DET\",\"PHX\",\"OKC\",\"DEN\",\"WAS\",\"CLE\",\"MIL\",\"SAC\",\"DAL\",\"BKN\",\"DEN\",\"NYK\",\"DAL\",\"NYK\",\"DEN\",\"DEN\",\"CHI\",\"CLE\",\"CHA\",\"MEM\",\"DET\",\"BOS\",\"WAS\",\"LAL\",\"BKN\",\"SAS\",\"NOP\",\"HOU\",\"ORL\",\"LAL\",\"CHI\",\"PHX\",\"CHI\",\"GSW\",\"SAS\",\"HOU\",\"CHI\",\"GSW\",\"SAC\",\"MIL\",\"NOP\",\"GSW\",\"BKN\",\"MEM\",\"ORL\",\"TOR\",\"LAC\",\"ORL\",\"SAC\",\"SAC\",\"BKN\",\"MEM\",\"MIA\",\"BKN\",\"POR\",\"ATL\",\"MIA\",\"ATL\",\"ATL\",\"POR\",\"SAS\",\"GSW\",\"DET\",\"GSW\",\"CLE\",\"HOU\",\"MEM\",\"ATL\",\"LAC\",\"UTA\",\"PHI\",\"CLE\",\"BOS\",\"ORL\",\"NOP\",\"HOU\",\"SAS\",\"SAC\",\"NOP\",\"CHA\",\"LAL\",\"WAS\",\"UTA\",\"HOU\",\"UTA\",\"BKN\",\"OKC\",\"DAL\",\"MIA\",\"CLE\",\"BKN\",\"MEM\",\"MEM\",\"MIL\",\"IND\",\"NOP\",\"CHA\",\"PHI\",\"NYK\",\"OKC\",\"ATL\",\"TOR\",\"CLE\",\"LAL\",\"TOR\",\"SAS\",\"LAC\",\"IND\",\"GSW\",\"PHX\",\"DET\",\"CHI\",\"SAC\",\"MIL\",\"DAL\",\"MIN\",\"DEN\",\"NOP\",\"DAL\",\"TOR\",\"LAL\",\"WAS\",\"OKC\",\"NYK\",\"CHI\",\"OKC\",\"NYK\",\"BKN\",\"BKN\",\"MEM\",\"CHI\",\"MIN\",\"CLE\",\"SAS\",\"MIL\",\"LAL\",\"NOP\",\"MIA\",\"ORL\",\"DET\",\"BOS\",\"BKN\",\"ORL\",\"CHI\",\"UTA\",\"GSW\",\"LAL\",\"UTA\",\"MIN\",\"IND\",\"PHX\",\"PHI\",\"PHX\",\"POR\",\"DET\",\"IND\",\"LAL\",\"NOP\",\"NYK\",\"MEM\",\"TOR\",\"IND\",\"DAL\",\"IND\",\"WAS\",\"NOP\",\"CLE\",\"SAC\",\"PHI\",\"SAS\",\"ORL\",\"DAL\",\"POR\",\"DEN\",\"HOU\",\"PHI\",\"GSW\",\"MIA\",\"SAC\",\"MEM\",\"LAL\",\"LAL\",\"OKC\",\"CHI\",\"MEM\",\"POR\",\"SAS\",\"DET\",\"ATL\",\"MIN\",\"TOR\",\"MIL\",\"LAC\",\"LAC\",\"MIL\",\"NYK\",\"ATL\",\"UTA\",\"PHX\",\"MIN\",\"GSW\",\"OKC\",\"PHX\",\"MEM\",\"HOU\",\"POR\",\"WAS\",\"CLE\",\"SAS\",\"BOS\",\"GSW\",\"BKN\",\"DEN\",\"MIN\",\"SAS\",\"DET\",\"PHX\",\"NOP\",\"LAC\",\"BKN\",\"WAS\",\"HOU\",\"MIL\",\"ATL\",\"MIN\",\"DAL\",\"CHA\",\"ATL\",\"MIN\",\"TOR\",\"ORL\",\"WAS\",\"OKC\",\"MIL\",\"BOS\",\"LAC\",\"UTA\",\"DET\",\"BOS\",\"CHA\",\"NYK\",\"UTA\",\"MIL\",\"GSW\",\"NYK\",\"LAC\",\"CHA\",\"OKC\",\"IND\",\"MIA\",\"MEM\",\"SAS\",\"TOR\",\"DEN\",\"DEN\",\"BOS\",\"OKC\",\"POR\",\"ORL\",\"POR\",\"POR\",\"SAC\",\"BOS\",\"MEM\",\"MEM\",\"DET\",\"CLE\",\"CHA\",\"LAC\",\"CLE\",\"TOR\",\"NOP\",\"UTA\",\"HOU\"],\"x\":{\"__ndarray__\":\"jkG+e/SnO8A11zWOW3YywNtC6IR2uzbALHSKYE1XE8DphIXuA14RwEnj/y5t+zXASPW9e2qXG8AgURvvq8wlwDBQ7MbWjS/AxhzNl3PaMsAip4H4n/sywApL9u/FpTbAECUK0J5sLMD1RjBEfMMTwNOnRoC7Jy/ACFg7a28PN8AEq00QszIpwLbXdf04iTHAw5s0Uzo/MsCkJxvFqJ8XwBVRz4iKjuw/mbLCmvLfKsBwH1d58uknwDaMcWt6QCzAzH0zZ/3OMcCjozFnMVAwwN25imYZZzLAQnpwEf1+NcCQwlDizmIowGQsS5/d6++//gy5Gty8McC07yBqoeQmwNFC7M4GtzTAmfTI3Al34r8lMxXcc8I1wMz/p+T63QRAI5Y+BLZYJsAkaWH2o9MgQAUQfBymQybAzOA/bZ9PI8AwkqVu4ccZwILrNfVt5jLAK+cKQ6RrvD/8s6tAULMtwLo1RHA3CD/ACNhr22ebJcCR7ddBR5cuQAH7gHwnsSDA2hZTnOuwOcAu7DHd4Mg6QHDEdfUzEC3AVlovl+d6LMDK98TuRqoxwOohGwLngyfAaMDQD9kmMcDUwkl353crwP4coq4O6ylAXMm2ni33LsDSEWwB52YSwOGvJ4y2CDXAC9nouPTCJcB1AZ8+ipglwPCLXznBKCvAoGuTVnmRIEApJ1mMExIwwNMq4aaSWCrAJhZuvQprMcAN8h0tbEQlwB5Oo3ukxifAftnXKE3zK8DkQ+QG0Ck1QJVjx8GLLSnAX3ewgdEMNMD3eKl0HbgLwPoiRdqVRCDA+TzNaVlYMcANSd5U8KEKwDAOtumr5CnAn0kI/srCMsCLIyTCW8gUwLfFe0auBCHA/nZKKR7xLMDoY8AOKlRBQLV1jyu3DRTAgiD3ZjhHMECml59yCDUlwHHk+Et+3xnAS/Re5qdhR0AzIr67aCIxwLI/tz/ngcs/qOgF7YeGJsAHJudn0ncwwNY+4VAmZSdACpmOIl/FHsCMZpQPAgdEQCeUnB8LtBfAOLIVbbPSMMBJ2SqR4PwmwPDstG7xt/u/4kwWbi5pGMBf/iPIiscxwCSWiqgIAAfAVwGmY0F26b96S8IOow8dwMXrgolUCCrAyQtIPhjAL8DGIHntLj0nwIS5lxuXoibAEiADrKdiNEC9Cr4ubJMMwDjo9LfibRdAxNVBmV/UJsApK0jEGdf5v+nZ+tLsvCzA/6SQMJbXIMAVePLYaNoTwGhSiJ8J4iPAc5Lx3eIfKMASzpQ9le0wwIeWvIvFKCrA7flj1TJ/IMANuPLSkwkRQNU9cwwImgdA1/brNUJNwL8ebdzejmUvwMFmginiMPC/zJUN6FaFMsBzdNj8EzsFQN8l0gPjyyLAA7ds+E9gLsDLW1KZXFYVwD91nyj4nCXA8UxEijmgHUAZqr0sj04pwKC/V8tZYyTAJUmQCXFzHsDSqpMbMjMSwKnquRu4TSzADYxRz15YF8DdxRZgXuEFQJ6O0cfmOhZAZ5M7pAO5J8Dg4yqXyPsywDXd5kP53SFAfxGfuPbvJ8Ay84f2cV4bwPVWFKo74SPAf/YskjLbLMBp7D8xwfIkwLqH/bzj9yPAw0PqT8FIJcCJZ1dMuSAXwMwqeMJ1RCnA+fATRXkxEcBQWqUvqCwZwOZn94kAThPAEJyGM36OJcD8UOloHJ4ywGNEIQd+1BpAkJ7fjrC1LcAURZa13r8vwKBqn4/sJy3AxSrEdDhhJ8AFln2KrMkzwMjAFsgnczPAW1VbvAktEcATQPcGG486QDJC3LoyyTDAK3KDQSepCEB6ARyZTAQ7QPqSjVC6JjzAGm+Ttjg9E8AOa61VIoY1QA6lIsgb3TtA0px/mH6TGECYFKN4yEwhwEup/QMvJx/Azg3aHLX7FkB8PdEr7A3VvzXj37EgPi9A2pPq4qeNBsBD9/qM480bQAsaZ4K/+R7AyiR5HnsyKMAk45FqatsxwK9VWMlWJQNA1x3yQS/jIMD07YzDSTkQwB7sSAowkTFAzcfUZYEVMEAFH9yET58lQE/38BsVMyzA87Tt149+IsCbShhNWSoQwJQRUzNzhx7A7xYLq7yeIsBt9oZJGFszQAL9olbeGfI/JgYSZqt2JsDIl7d/MfMzwLy3FQd/DDdAfFqiy4SHMsAR/KyIU2YfwLXP6vLbFxbA4C0P1wMfO0BtxYZ/tLMpwHr4C08vQCLAxVzNV1Q0OEDHybCHdNYfwAM1TeHsmxPAYz38GJZ4J0CnzBnGp2owwFRZbgqfLyvADx8aV9G0HMDSCT+qshcJwBsHU5YelTTAS7URPybcLMCEyU0dUQIiwOMhpIx7BP+/hlFzZjkNNMA35GJBcnsSwEA09wP2ABfAhrI0ExOqQMASqMMoVvsuQAFwMOHj7hPA38q7Lug+KcC3gWQRQOIiwCnDKZUmzRbAzKsdelDFJMAUC3J0l4wHwDBlEcnEjRbA+I8jbsGCFEAoccOXXDcowDeFkFEwNzhA4gados6iIcAdRviHg+wtwCC+A6yrDyvAVkdghVr+RUD90hj8K00EwCSS3wI5xRFAwxetsXmdNUA1XrIhY3s6QPppJE3xdijAbFUe3iQdP0A5h2PPhR0hwNxVBEoOTj9AnjygR7OOEsDlvsENK14wwJWIqRHXU/8/Fv0bor/bI8Aek6OBWtUywIwTthJHwz1ABeeWhNMED8DVqG/w+LwrwOs2X1M6xBbAyvqQS084FkAcsny7N1A9QBaqO3GHySHA3T8alYTQBEAPk8AXT2QSQIbFKBD98DHAmNtBtl8PIEB8HIYFKRQXwN7qs2aPYSzAtcQqJDBEJ0ADMa/a2IAVwBjU3A/7iyBAKgG14o4BGECMYNnnsEgawBdPece00yjA+gf9g0KQJcCfGy0sMqgOwD67Kqu5WgpAUsK0ddWiMcDkstrPLOgcQEuNm93EtzPAT+d8aYKJp7+3/OlCEUopQGlERR4y2R/AtUNeN+6hSUDblnEpKMAUQPTeFri1yi3AboM58AaRH0Bf+1N4oQxDQCguIwpoNSHAPbj4KUDkKcADuSBwn7sLQNUVwbWSIxXAWXNZK6ehJcDpD5kQYsgbQKZL/CNlCitAUW4AJW2FHMATrc9de/nMPwD/VFhJpSdAlZrH5o05LUB5PHCAZ78jwISFiQHiQOa/1Yk3sjNjJUCVBEf8huUEQJLa0DxcQiBAUfrNGa+7AsCfTL99obsgwF0RTPGrVx5ACV3vIr9nLcC96c5+IdbzvxdESMjFmipAK3fEPII0N0CunSIrKtIoQE8bOTlhajBAZZRXxVy9NkBrtXwmuBQywMq0aMcuZx3AGxWFov4+DEAZUX0Yf/E0wPSfAgyyoxnAguQVdyAAPEDsDKF8WbIwwOH8uMPHzhjAmL2U1+CwIEAtiDqmX60HwDbghCZPFEFAMuaVPyS+JUDRiHndeZrzv94bd6EAkRHARrfmQNDAIcCxPo687SQrwE3Gujp8ATVAUfzUDDugHUAp9kWkAVrvv5B272becj5Ak90aCnerLEBpM9l+vJEywJKzvYiAGhPAFeqZQ30oIEC8qjndzlYowEULO2ir4hLAWlIoXwrpEMD2WMqXLwQxwHoN29uqrhJANWKRH6QLKECn2wP89JkqQFviloAwgCXA2WZtl1nAJ8Ano+s+95FDQMPQZxqtQyzA6C07WOjUQEAhNzplua8tQMQC9hEzYvG/7v/InZ4oJEDPx+PSVdIYwNz5MVilHfu/8kqTw4DRK8Axp7fHGqEmwNso86HjIOw/0kRN4WaR/T8TvidxvqEywGq+zuvT1BjACaq5KeS1U0DPKi3HFlkowJFbf4qkRD5A0JikS9ftF0Clh0ksGooDQIW+UHbTbB7AQbHKKbnCCMD6VNa1xL4YwB2L8iTUPA/A0OsbFcl9FECtMMtLrMLkPzks+c4ihivAsJvnwiefC8DIPGlfxJrpvwSGZmz8mdC/zrzjZLTCEcDo8w5OxEk7QFtQpf7LLrK/MaOksw81G8Cocf9yhWZAQPfHRx6tHw5AvwJytOy5KcAsY26hyn0HQO4Z+KD0bAjAk2yJZqs0OED4Y35hvhU0QKmX14qoP0RAbb8bkEq1CEDv4h/sC0EwQD5AkCd9yjhA61KXk+ZBM0BPDaM8zbomwP4St+LQ/TjAcaDqTRF6HcDi9Mkgq4szQPEPb0iODvS/8MdRiMOeIMAf7MYbFmErQCzkiwGmsCHAET6l3QD4QcDR3wfE5EFTQOM03VbuXzjAC9F7Y55yHsAjAg0zBl01QNYzcAq2fCFA0bk5NEJlEkACnNfCV2xDQBnDIf4WVjNAh+kcd9pJR0BbbbEEP10aQM91fUoFdDXAVANPjZcFJ0Cn36XfvIAKQFFPuq2NJ/Y/SZ56yy0lKsD+0cBaOKw1QJwkIAOz4CJAtyc6B0OAEEDpinebDhMUQOJKC9EAjCXA8Ngfb3aGFEDGKc0+PColQL2cYcSohkNArRvbYYZYLMAV/sR0pXsywI7/PVoOMTrADnVLWOiTG8CnimAefadAwDaNKwLZVeU/V/M4nR/YREAFs6dHmxkHQGZfVE3N1SLAoJnyLURhRkAS5lSzCbQ6wDTt4j75/StAzAq8yEHpOUAFYGxz/W5FQDPemJZ/LTFAPS2+puCnJ8DiIZFYwIk1QIpMaHsbrB7AywwisWApIMDlS5FaCG8iwK87/UyZJBLAiG26mJ5lvj9StE/X/DoFwPmX2h1g6iJAI86fQ1RYJcBC+nKSiY5IQP3JXoYtcz9AbapsLrrcHcBWDVlfG2YCwHcQ+5btCBzA7YjVK13NQEB6kj7iCdoKQOKaUk029yhAPh+u41tqMsDyEbGAgj0owDR6g2EYLjPAnKaJXrF0S0CtFlG87oZAQI1ioeTaFEVAOFF5YgfjUkDBpkkwDLoiwC+vaZKl8BZA+K48XWH0NcBYCygnBfZAQI1CygN8hkRA2p8UwSlEQUA3my6OQbxSQAGW9nRXrytAN7hVUdrxQkDcZ/PB9DY3QD7wWFpGQyDAa2iYXZ1QTkDVP7d46UhQQChKxMcHMVJAaHp8hzopUkBSgJB7FiVSQA==\",\"dtype\":\"float64\",\"shape\":[476]},\"y\":{\"__ndarray__\":\"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\",\"dtype\":\"float64\",\"shape\":[476]}}},\"id\":\"202fa4ba-45d8-434f-8274-cc4ac4a71bcf\",\"type\":\"ColumnDataSource\"},{\"attributes\":{},\"id\":\"d74e0b39-94c9-4620-9ad4-dafd8ffdb627\",\"type\":\"BasicTicker\"},{\"attributes\":{},\"id\":\"df795521-30b5-43a5-88ca-cf54f3b11479\",\"type\":\"BasicTicker\"},{\"attributes\":{\"high\":30.1,\"low\":0.0,\"palette\":[\"#0C0786\",\"#100787\",\"#130689\",\"#15068A\",\"#18068B\",\"#1B068C\",\"#1D068D\",\"#1F058E\",\"#21058F\",\"#230590\",\"#250591\",\"#270592\",\"#290593\",\"#2B0594\",\"#2D0494\",\"#2F0495\",\"#310496\",\"#330497\",\"#340498\",\"#360498\",\"#380499\",\"#3A049A\",\"#3B039A\",\"#3D039B\",\"#3F039C\",\"#40039C\",\"#42039D\",\"#44039E\",\"#45039E\",\"#47029F\",\"#49029F\",\"#4A02A0\",\"#4C02A1\",\"#4E02A1\",\"#4F02A2\",\"#5101A2\",\"#5201A3\",\"#5401A3\",\"#5601A3\",\"#5701A4\",\"#5901A4\",\"#5A00A5\",\"#5C00A5\",\"#5E00A5\",\"#5F00A6\",\"#6100A6\",\"#6200A6\",\"#6400A7\",\"#6500A7\",\"#6700A7\",\"#6800A7\",\"#6A00A7\",\"#6C00A8\",\"#6D00A8\",\"#6F00A8\",\"#7000A8\",\"#7200A8\",\"#7300A8\",\"#7500A8\",\"#7601A8\",\"#7801A8\",\"#7901A8\",\"#7B02A8\",\"#7C02A7\",\"#7E03A7\",\"#7F03A7\",\"#8104A7\",\"#8204A7\",\"#8405A6\",\"#8506A6\",\"#8607A6\",\"#8807A5\",\"#8908A5\",\"#8B09A4\",\"#8C0AA4\",\"#8E0CA4\",\"#8F0DA3\",\"#900EA3\",\"#920FA2\",\"#9310A1\",\"#9511A1\",\"#9612A0\",\"#9713A0\",\"#99149F\",\"#9A159E\",\"#9B179E\",\"#9D189D\",\"#9E199C\",\"#9F1A9B\",\"#A01B9B\",\"#A21C9A\",\"#A31D99\",\"#A41E98\",\"#A51F97\",\"#A72197\",\"#A82296\",\"#A92395\",\"#AA2494\",\"#AC2593\",\"#AD2692\",\"#AE2791\",\"#AF2890\",\"#B02A8F\",\"#B12B8F\",\"#B22C8E\",\"#B42D8D\",\"#B52E8C\",\"#B62F8B\",\"#B7308A\",\"#B83289\",\"#B93388\",\"#BA3487\",\"#BB3586\",\"#BC3685\",\"#BD3784\",\"#BE3883\",\"#BF3982\",\"#C03B81\",\"#C13C80\",\"#C23D80\",\"#C33E7F\",\"#C43F7E\",\"#C5407D\",\"#C6417C\",\"#C7427B\",\"#C8447A\",\"#C94579\",\"#CA4678\",\"#CB4777\",\"#CC4876\",\"#CD4975\",\"#CE4A75\",\"#CF4B74\",\"#D04D73\",\"#D14E72\",\"#D14F71\",\"#D25070\",\"#D3516F\",\"#D4526E\",\"#D5536D\",\"#D6556D\",\"#D7566C\",\"#D7576B\",\"#D8586A\",\"#D95969\",\"#DA5A68\",\"#DB5B67\",\"#DC5D66\",\"#DC5E66\",\"#DD5F65\",\"#DE6064\",\"#DF6163\",\"#DF6262\",\"#E06461\",\"#E16560\",\"#E26660\",\"#E3675F\",\"#E3685E\",\"#E46A5D\",\"#E56B5C\",\"#E56C5B\",\"#E66D5A\",\"#E76E5A\",\"#E87059\",\"#E87158\",\"#E97257\",\"#EA7356\",\"#EA7455\",\"#EB7654\",\"#EC7754\",\"#EC7853\",\"#ED7952\",\"#ED7B51\",\"#EE7C50\",\"#EF7D4F\",\"#EF7E4E\",\"#F0804D\",\"#F0814D\",\"#F1824C\",\"#F2844B\",\"#F2854A\",\"#F38649\",\"#F38748\",\"#F48947\",\"#F48A47\",\"#F58B46\",\"#F58D45\",\"#F68E44\",\"#F68F43\",\"#F69142\",\"#F79241\",\"#F79341\",\"#F89540\",\"#F8963F\",\"#F8983E\",\"#F9993D\",\"#F99A3C\",\"#FA9C3B\",\"#FA9D3A\",\"#FA9F3A\",\"#FAA039\",\"#FBA238\",\"#FBA337\",\"#FBA436\",\"#FCA635\",\"#FCA735\",\"#FCA934\",\"#FCAA33\",\"#FCAC32\",\"#FCAD31\",\"#FDAF31\",\"#FDB030\",\"#FDB22F\",\"#FDB32E\",\"#FDB52D\",\"#FDB62D\",\"#FDB82C\",\"#FDB92B\",\"#FDBB2B\",\"#FDBC2A\",\"#FDBE29\",\"#FDC029\",\"#FDC128\",\"#FDC328\",\"#FDC427\",\"#FDC626\",\"#FCC726\",\"#FCC926\",\"#FCCB25\",\"#FCCC25\",\"#FCCE25\",\"#FBD024\",\"#FBD124\",\"#FBD324\",\"#FAD524\",\"#FAD624\",\"#FAD824\",\"#F9D924\",\"#F9DB24\",\"#F8DD24\",\"#F8DF24\",\"#F7E024\",\"#F7E225\",\"#F6E425\",\"#F6E525\",\"#F5E726\",\"#F5E926\",\"#F4EA26\",\"#F3EC26\",\"#F3EE26\",\"#F2F026\",\"#F2F126\",\"#F1F326\",\"#F0F525\",\"#F0F623\",\"#EFF821\"]},\"id\":\"b59b7e3b-5b8c-4e78-9ab0-b6d61f85655b\",\"type\":\"LinearColorMapper\"},{\"attributes\":{},\"id\":\"dc18b511-1fec-4b49-9662-a3dfbba38e62\",\"type\":\"BasicTickFormatter\"},{\"attributes\":{\"data\":null,\"x\":[0.0,30.1],\"y\":[2,40]},\"id\":\"812e46b0-7956-4ff0-82fe-c89601607ad6\",\"type\":\"LinearInterpolator\"},{\"attributes\":{\"overlay\":{\"id\":\"ef4c8901-8042-416a-985c-75caeac6377f\",\"type\":\"BoxAnnotation\"},\"plot\":{\"id\":\"4de33836-ca07-4e3c-9ab0-cf3df9327f5b\",\"subtype\":\"Figure\",\"type\":\"Plot\"}},\"id\":\"bca0546a-4314-4b64-a79b-f088bf4951f2\",\"type\":\"BoxZoomTool\"},{\"attributes\":{\"data_source\":{\"id\":\"202fa4ba-45d8-434f-8274-cc4ac4a71bcf\",\"type\":\"ColumnDataSource\"},\"glyph\":{\"id\":\"b158b475-cc7a-44bd-9c63-4babcc6d0d1c\",\"type\":\"Circle\"},\"hover_glyph\":null,\"muted_glyph\":null,\"nonselection_glyph\":{\"id\":\"6d610aa8-7ec6-4dc6-b514-a9ae54398153\",\"type\":\"Circle\"},\"selection_glyph\":null},\"id\":\"d9a786b0-983d-4faf-8ea9-7b8ab6ea5ce1\",\"type\":\"GlyphRenderer\"},{\"attributes\":{\"callback\":null},\"id\":\"41867179-0410-429c-935d-19df5fa15303\",\"type\":\"DataRange1d\"},{\"attributes\":{\"plot\":{\"id\":\"4de33836-ca07-4e3c-9ab0-cf3df9327f5b\",\"subtype\":\"Figure\",\"type\":\"Plot\"}},\"id\":\"59d88daa-f3f8-4320-8eae-3f25b9322298\",\"type\":\"ResetTool\"},{\"attributes\":{\"plot\":null,\"text\":\"Basketballers from the 2015/16 season\"},\"id\":\"b696a39d-f844-49f8-b38a-018438c9637a\",\"type\":\"Title\"},{\"attributes\":{},\"id\":\"91aab0eb-2fad-4f99-a6b2-022163680efb\",\"type\":\"BasicTicker\"},{\"attributes\":{\"plot\":{\"id\":\"4de33836-ca07-4e3c-9ab0-cf3df9327f5b\",\"subtype\":\"Figure\",\"type\":\"Plot\"},\"ticker\":{\"id\":\"91aab0eb-2fad-4f99-a6b2-022163680efb\",\"type\":\"BasicTicker\"}},\"id\":\"d814269a-605c-4df1-9e8a-9144d51cef97\",\"type\":\"Grid\"},{\"attributes\":{\"color_mapper\":{\"id\":\"b59b7e3b-5b8c-4e78-9ab0-b6d61f85655b\",\"type\":\"LinearColorMapper\"},\"formatter\":{\"id\":\"81c81b64-0991-4aa6-b233-a64ea29eae69\",\"type\":\"BasicTickFormatter\"},\"location\":[0,0],\"orientation\":\"horizontal\",\"plot\":{\"id\":\"4de33836-ca07-4e3c-9ab0-cf3df9327f5b\",\"subtype\":\"Figure\",\"type\":\"Plot\"},\"ticker\":{\"id\":\"d74e0b39-94c9-4620-9ad4-dafd8ffdb627\",\"type\":\"BasicTicker\"}},\"id\":\"2bc343eb-15e7-4763-b729-ed837de2423b\",\"type\":\"ColorBar\"},{\"attributes\":{\"callback\":null,\"plot\":{\"id\":\"4de33836-ca07-4e3c-9ab0-cf3df9327f5b\",\"subtype\":\"Figure\",\"type\":\"Plot\"},\"show_arrow\":false,\"tooltips\":\"@player\"},\"id\":\"8beb0159-9989-4859-9c94-95874c5a58f7\",\"type\":\"HoverTool\"},{\"attributes\":{\"dimension\":1,\"plot\":{\"id\":\"4de33836-ca07-4e3c-9ab0-cf3df9327f5b\",\"subtype\":\"Figure\",\"type\":\"Plot\"},\"ticker\":{\"id\":\"df795521-30b5-43a5-88ca-cf54f3b11479\",\"type\":\"BasicTicker\"}},\"id\":\"3637f5aa-fccf-427d-bb9a-ea46a8a6efe0\",\"type\":\"Grid\"},{\"attributes\":{\"formatter\":{\"id\":\"dc18b511-1fec-4b49-9662-a3dfbba38e62\",\"type\":\"BasicTickFormatter\"},\"plot\":{\"id\":\"4de33836-ca07-4e3c-9ab0-cf3df9327f5b\",\"subtype\":\"Figure\",\"type\":\"Plot\"},\"ticker\":{\"id\":\"df795521-30b5-43a5-88ca-cf54f3b11479\",\"type\":\"BasicTicker\"}},\"id\":\"c081ba78-d40f-4bad-be23-3fe01035c49c\",\"type\":\"LinearAxis\"},{\"attributes\":{\"formatter\":{\"id\":\"8ad94fef-54e2-4032-a27c-164d9845a9c0\",\"type\":\"BasicTickFormatter\"},\"plot\":{\"id\":\"4de33836-ca07-4e3c-9ab0-cf3df9327f5b\",\"subtype\":\"Figure\",\"type\":\"Plot\"},\"ticker\":{\"id\":\"91aab0eb-2fad-4f99-a6b2-022163680efb\",\"type\":\"BasicTicker\"}},\"id\":\"bf73a65c-4038-485b-a412-5ad1cba666e1\",\"type\":\"LinearAxis\"},{\"attributes\":{\"bottom_units\":\"screen\",\"fill_alpha\":{\"value\":0.5},\"fill_color\":{\"value\":\"lightgrey\"},\"left_units\":\"screen\",\"level\":\"overlay\",\"line_alpha\":{\"value\":1.0},\"line_color\":{\"value\":\"black\"},\"line_dash\":[4,4],\"line_width\":{\"value\":2},\"plot\":null,\"render_mode\":\"css\",\"right_units\":\"screen\",\"top_units\":\"screen\"},\"id\":\"ef4c8901-8042-416a-985c-75caeac6377f\",\"type\":\"BoxAnnotation\"},{\"attributes\":{\"fill_alpha\":{\"value\":0.1},\"fill_color\":{\"value\":\"#1f77b4\"},\"line_alpha\":{\"value\":0.1},\"line_color\":{\"value\":\"#1f77b4\"},\"size\":{\"field\":\"points\",\"transform\":{\"id\":\"812e46b0-7956-4ff0-82fe-c89601607ad6\",\"type\":\"LinearInterpolator\"},\"units\":\"screen\"},\"x\":{\"field\":\"x\"},\"y\":{\"field\":\"y\"}},\"id\":\"6d610aa8-7ec6-4dc6-b514-a9ae54398153\",\"type\":\"Circle\"},{\"attributes\":{\"below\":[{\"id\":\"bf73a65c-4038-485b-a412-5ad1cba666e1\",\"type\":\"LinearAxis\"},{\"id\":\"2bc343eb-15e7-4763-b729-ed837de2423b\",\"type\":\"ColorBar\"}],\"left\":[{\"id\":\"c081ba78-d40f-4bad-be23-3fe01035c49c\",\"type\":\"LinearAxis\"}],\"plot_width\":900,\"renderers\":[{\"id\":\"bf73a65c-4038-485b-a412-5ad1cba666e1\",\"type\":\"LinearAxis\"},{\"id\":\"d814269a-605c-4df1-9e8a-9144d51cef97\",\"type\":\"Grid\"},{\"id\":\"c081ba78-d40f-4bad-be23-3fe01035c49c\",\"type\":\"LinearAxis\"},{\"id\":\"3637f5aa-fccf-427d-bb9a-ea46a8a6efe0\",\"type\":\"Grid\"},{\"id\":\"ef4c8901-8042-416a-985c-75caeac6377f\",\"type\":\"BoxAnnotation\"},{\"id\":\"d9a786b0-983d-4faf-8ea9-7b8ab6ea5ce1\",\"type\":\"GlyphRenderer\"},{\"id\":\"2bc343eb-15e7-4763-b729-ed837de2423b\",\"type\":\"ColorBar\"}],\"title\":{\"id\":\"b696a39d-f844-49f8-b38a-018438c9637a\",\"type\":\"Title\"},\"tool_events\":{\"id\":\"c571733d-0904-4976-bcef-bef1203021ca\",\"type\":\"ToolEvents\"},\"toolbar\":{\"id\":\"9b69bfa5-9b52-42d1-a0c4-fc318a533173\",\"type\":\"Toolbar\"},\"x_range\":{\"id\":\"41867179-0410-429c-935d-19df5fa15303\",\"type\":\"DataRange1d\"},\"y_range\":{\"id\":\"0ea22220-03bd-4e67-b61a-9ee24487c979\",\"type\":\"DataRange1d\"}},\"id\":\"4de33836-ca07-4e3c-9ab0-cf3df9327f5b\",\"subtype\":\"Figure\",\"type\":\"Plot\"}],\"root_ids\":[\"4de33836-ca07-4e3c-9ab0-cf3df9327f5b\"]},\"title\":\"Bokeh Application\",\"version\":\"0.12.5\"}};\n",
       "            var render_items = [{\"docid\":\"b668a693-1656-418a-8a22-ae7bad78494f\",\"elementid\":\"3510c4c9-92ae-47e1-bb99-2b6c7f7d8625\",\"modelid\":\"4de33836-ca07-4e3c-9ab0-cf3df9327f5b\",\"notebook_comms_target\":\"a600dea7-683f-499c-a543-6bee541d1fc6\"}];\n",
       "            \n",
       "            Bokeh.embed.embed_items(docs_json, render_items);\n",
       "          };\n",
       "          if (document.readyState != \"loading\") fn();\n",
       "          else document.addEventListener(\"DOMContentLoaded\", fn);\n",
       "        })();\n",
       "      },\n",
       "      function(Bokeh) {\n",
       "      }\n",
       "    ];\n",
       "  \n",
       "    function run_inline_js() {\n",
       "      \n",
       "      if ((window.Bokeh !== undefined) || (force === true)) {\n",
       "        for (var i = 0; i < inline_js.length; i++) {\n",
       "          inline_js[i](window.Bokeh);\n",
       "        }if (force === true) {\n",
       "          display_loaded();\n",
       "        }} else if (Date.now() < window._bokeh_timeout) {\n",
       "        setTimeout(run_inline_js, 100);\n",
       "      } else if (!window._bokeh_failed_load) {\n",
       "        console.log(\"Bokeh: BokehJS failed to load within specified timeout.\");\n",
       "        window._bokeh_failed_load = true;\n",
       "      } else if (force !== true) {\n",
       "        var cell = $(document.getElementById(\"3510c4c9-92ae-47e1-bb99-2b6c7f7d8625\")).parents('.cell').data().cell;\n",
       "        cell.output_area.append_execute_result(NB_LOAD_WARNING)\n",
       "      }\n",
       "  \n",
       "    }\n",
       "  \n",
       "    if (window._bokeh_is_loading === 0) {\n",
       "      console.log(\"Bokeh: BokehJS loaded, going straight to plotting\");\n",
       "      run_inline_js();\n",
       "    } else {\n",
       "      load_libs(js_urls, function() {\n",
       "        console.log(\"Bokeh: BokehJS plotting callback run at\", now());\n",
       "        run_inline_js();\n",
       "      });\n",
       "    }\n",
       "  }(this));\n",
       "</script>"
      ]
     },
     "metadata": {},
     "output_type": "display_data"
    },
    {
     "data": {
      "text/html": [
       "<p><code>&lt;Bokeh Notebook handle for <strong>In[9]</strong>&gt;</code></p>"
      ],
      "text/plain": [
       "<bokeh.io._CommsHandle at 0xb461a90>"
      ]
     },
     "execution_count": 9,
     "metadata": {},
     "output_type": "execute_result"
    }
   ],
   "source": [
    "hover = HoverTool(tooltips='@player', show_arrow=False)\n",
    "p = figure(tools=[hover,BoxZoomTool(), ResetTool()],\n",
    "          title='Basketballers from the 2015/16 season',\n",
    "          plot_width=900)\n",
    "p.circle(x='x', y='y',\n",
    "         size={'field': 'points', 'transform': size_mapper},\n",
    "         color={'field': 'points', 'transform': color_mapper},\n",
    "         alpha=0.5,\n",
    "         source=source\n",
    ")\n",
    "p.add_layout(ColorBar(color_mapper=color_mapper, location=(0, 0), orientation='horizontal'), 'below')\n",
    "show(p, notebook_handle=True)"
   ]
  },
  {
   "cell_type": "code",
   "execution_count": 10,
   "metadata": {
    "collapsed": false
   },
   "outputs": [],
   "source": [
    "interact(update, player=list(final_data.PLAYER.unique()))"
   ]
  },
  {
   "cell_type": "code",
   "execution_count": null,
   "metadata": {
    "collapsed": true
   },
   "outputs": [],
   "source": []
  }
 ],
 "metadata": {
  "kernelspec": {
   "display_name": "Python 2",
   "language": "python",
   "name": "python2"
  },
  "language_info": {
   "codemirror_mode": {
    "name": "ipython",
    "version": 2
   },
   "file_extension": ".py",
   "mimetype": "text/x-python",
   "name": "python",
   "nbconvert_exporter": "python",
   "pygments_lexer": "ipython2",
   "version": "2.7.13"
  },
  "widgets": {
   "state": {
    "9b2580fefd264730b92d695d22fa5fa5": {
     "views": [
      {
       "cell_index": 9
      }
     ]
    }
   },
   "version": "1.2.0"
  }
 },
 "nbformat": 4,
 "nbformat_minor": 2
}
